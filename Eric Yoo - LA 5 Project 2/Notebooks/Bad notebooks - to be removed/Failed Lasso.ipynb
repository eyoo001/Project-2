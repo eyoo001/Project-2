{
 "cells": [
  {
   "cell_type": "code",
   "execution_count": 1,
   "metadata": {},
   "outputs": [
    {
     "name": "stderr",
     "output_type": "stream",
     "text": [
      "/anaconda3/lib/python3.6/site-packages/sklearn/cross_validation.py:41: DeprecationWarning: This module was deprecated in version 0.18 in favor of the model_selection module into which all the refactored classes and functions are moved. Also note that the interface of the new CV iterators are different from that of this module. This module will be removed in 0.20.\n",
      "  \"This module will be removed in 0.20.\", DeprecationWarning)\n",
      "/anaconda3/lib/python3.6/site-packages/sklearn/grid_search.py:42: DeprecationWarning: This module was deprecated in version 0.18 in favor of the model_selection module into which all the refactored classes and functions are moved. This module will be removed in 0.20.\n",
      "  DeprecationWarning)\n"
     ]
    }
   ],
   "source": [
    "import seaborn as sns\n",
    "import pandas as pd\n",
    "import numpy as np\n",
    "import matplotlib.pyplot as plt\n",
    "from sklearn.model_selection import train_test_split, KFold, cross_val_score\n",
    "from sklearn.linear_model import Lasso, LassoCV, LinearRegression\n",
    "from sklearn.preprocessing import StandardScaler, PolynomialFeatures\n",
    "from sklearn.pipeline import Pipeline\n",
    "from sklearn.feature_selection import SelectKBest, VarianceThreshold, f_regression, SelectPercentile\n",
    "from sklearn.grid_search import GridSearchCV\n",
    "from sklearn.feature_selection import variance_threshold\n",
    "np.random.seed(42)\n",
    "\n",
    "\n",
    "%matplotlib inline"
   ]
  },
  {
   "cell_type": "code",
   "execution_count": 2,
   "metadata": {},
   "outputs": [],
   "source": [
    "df = pd.read_csv('../Data/train.csv', index_col='Id')"
   ]
  },
  {
   "cell_type": "code",
   "execution_count": 3,
   "metadata": {},
   "outputs": [],
   "source": [
    "df.drop(['PID'], axis=1, inplace=True)"
   ]
  },
  {
   "cell_type": "code",
   "execution_count": 4,
   "metadata": {},
   "outputs": [],
   "source": [
    "df_obj = df.select_dtypes(include = ['object'])\n",
    "df_int = df.select_dtypes(exclude = ['object'])"
   ]
  },
  {
   "cell_type": "code",
   "execution_count": 5,
   "metadata": {},
   "outputs": [],
   "source": [
    "df_obj_d = pd.get_dummies(df_obj, drop_first=True)"
   ]
  },
  {
   "cell_type": "code",
   "execution_count": 6,
   "metadata": {},
   "outputs": [],
   "source": [
    "df_con = pd.concat((df_int, df_obj_d), axis=1)\n",
    "df_con.fillna(0, inplace=True)"
   ]
  },
  {
   "cell_type": "code",
   "execution_count": 7,
   "metadata": {},
   "outputs": [
    {
     "data": {
      "text/plain": [
       "(2051, 248)"
      ]
     },
     "execution_count": 7,
     "metadata": {},
     "output_type": "execute_result"
    }
   ],
   "source": [
    "df_con.shape"
   ]
  },
  {
   "cell_type": "code",
   "execution_count": 8,
   "metadata": {},
   "outputs": [],
   "source": [
    "X = df_con.drop(['SalePrice'], axis=1)\n",
    "y = df['SalePrice'].values"
   ]
  },
  {
   "cell_type": "code",
   "execution_count": 9,
   "metadata": {},
   "outputs": [],
   "source": [
    "X_train, X_test, y_train, y_test = train_test_split(X, y)"
   ]
  },
  {
   "cell_type": "code",
   "execution_count": 10,
   "metadata": {},
   "outputs": [],
   "source": [
    "var = VarianceThreshold(threshold = 0.15)\n",
    "ss = StandardScaler()"
   ]
  },
  {
   "cell_type": "code",
   "execution_count": 11,
   "metadata": {},
   "outputs": [
    {
     "data": {
      "text/plain": [
       "(1538, 247)"
      ]
     },
     "execution_count": 11,
     "metadata": {},
     "output_type": "execute_result"
    }
   ],
   "source": [
    "X_train.shape"
   ]
  },
  {
   "cell_type": "code",
   "execution_count": 12,
   "metadata": {},
   "outputs": [],
   "source": [
    "X_train_var = var.fit_transform(X_train)\n",
    "X_test_var = var.transform(X_test)\n",
    "\n",
    "# preserve the column names\n",
    "X_columns = X[X.columns[var.get_support()]]\n",
    "X_columns.head()"
   ]
  },
  {
   "cell_type": "code",
   "execution_count": 60,
   "metadata": {},
   "outputs": [],
   "source": [
    "X_train_var_sc = ss.fit_transform(X_train_var)\n",
    "X_test_var_sc = ss.transform(X_test_var)"
   ]
  },
  {
   "cell_type": "code",
   "execution_count": 61,
   "metadata": {},
   "outputs": [],
   "source": [
    "kbest = SelectKBest(f_regression, k=50)\n",
    "\n",
    "X_train_kbest = kbest.fit_transform(X_train_var_sc, y_train)\n",
    "\n",
    "X_test_kbest = kbest.transform(X_test_var_sc)\n",
    "\n",
    "X_columns_sc = X_columns[X_columns.columns[kbest.get_support()]]"
   ]
  },
  {
   "cell_type": "code",
   "execution_count": null,
   "metadata": {},
   "outputs": [],
   "source": []
  },
  {
   "cell_type": "code",
   "execution_count": 17,
   "metadata": {},
   "outputs": [],
   "source": [
    "# feature selection - kbest, kpercentile, var thresh, ss\n",
    "# scoring/testing - LR, ridge, lasso, elastic_net"
   ]
  },
  {
   "cell_type": "code",
   "execution_count": 18,
   "metadata": {},
   "outputs": [],
   "source": [
    "ls = LassoCV()"
   ]
  },
  {
   "cell_type": "code",
   "execution_count": 19,
   "metadata": {},
   "outputs": [
    {
     "data": {
      "text/plain": [
       "LassoCV(alphas=None, copy_X=True, cv=None, eps=0.001, fit_intercept=True,\n",
       "    max_iter=1000, n_alphas=100, n_jobs=1, normalize=False, positive=False,\n",
       "    precompute='auto', random_state=None, selection='cyclic', tol=0.0001,\n",
       "    verbose=False)"
      ]
     },
     "execution_count": 19,
     "metadata": {},
     "output_type": "execute_result"
    }
   ],
   "source": [
    "ls.fit(X_train_kbest, y_train)"
   ]
  },
  {
   "cell_type": "code",
   "execution_count": 20,
   "metadata": {},
   "outputs": [
    {
     "data": {
      "text/plain": [
       "0.8372692125270058"
      ]
     },
     "execution_count": 20,
     "metadata": {},
     "output_type": "execute_result"
    }
   ],
   "source": [
    "ls.score(X_train_kbest, y_train)"
   ]
  },
  {
   "cell_type": "code",
   "execution_count": 21,
   "metadata": {},
   "outputs": [
    {
     "data": {
      "text/plain": [
       "0.8827101757787291"
      ]
     },
     "execution_count": 21,
     "metadata": {},
     "output_type": "execute_result"
    }
   ],
   "source": [
    "ls.score(X_test_kbest, y_test)"
   ]
  },
  {
   "cell_type": "code",
   "execution_count": 64,
   "metadata": {},
   "outputs": [
    {
     "data": {
      "text/plain": [
       "array([    0.        ,  3783.42927149, 23959.03636769,  5509.26960782,\n",
       "        5725.29211771,  5295.79041871,   456.30001342,    -0.        ,\n",
       "        4398.66961205,     0.        ,   291.18141683, 15881.63691399,\n",
       "        4306.93477209,   987.47591699,     0.        ,  2315.51193028,\n",
       "        3394.40101681,    -0.        ,  6131.47513579,  1964.17524192,\n",
       "        1872.89862455,     0.        ,  4963.70445724,  2261.29199971,\n",
       "       -1129.83848697,  -380.25030153,    -0.        ,  3208.28263129,\n",
       "         102.72362312,   192.78615597, -2299.3186793 ,     0.        ,\n",
       "       -2005.49005292, -5236.14647184,    -0.        ,  2445.13383171,\n",
       "       -6779.02475416, -2961.40469098, -2430.66298063,  2142.28763945,\n",
       "       -2415.75648131, -2288.04140945, -8259.99308926, -8617.43555551,\n",
       "        2472.22543632,     0.        ,     0.        ,   -40.25048347,\n",
       "        -284.80946928,  -681.59712913])"
      ]
     },
     "execution_count": 64,
     "metadata": {},
     "output_type": "execute_result"
    }
   ],
   "source": [
    "ls.coef_"
   ]
  },
  {
   "cell_type": "code",
   "execution_count": 23,
   "metadata": {
    "scrolled": true
   },
   "outputs": [],
   "source": [
    "#ls.alphas_"
   ]
  },
  {
   "cell_type": "code",
   "execution_count": 24,
   "metadata": {},
   "outputs": [],
   "source": [
    "#coef = pd.Series(ls.coef_, index = X_train.columns)\n"
   ]
  },
  {
   "cell_type": "code",
   "execution_count": null,
   "metadata": {},
   "outputs": [],
   "source": []
  },
  {
   "cell_type": "code",
   "execution_count": 38,
   "metadata": {},
   "outputs": [],
   "source": [
    "kaggle = pd.read_csv('../Data/test.csv', index_col='Id')\n",
    "kaggle.drop(['PID'], axis=1, inplace=True)"
   ]
  },
  {
   "cell_type": "code",
   "execution_count": null,
   "metadata": {
    "scrolled": true
   },
   "outputs": [],
   "source": []
  },
  {
   "cell_type": "code",
   "execution_count": null,
   "metadata": {},
   "outputs": [],
   "source": []
  },
  {
   "cell_type": "code",
   "execution_count": 39,
   "metadata": {},
   "outputs": [],
   "source": [
    "kaggle_int = kaggle.select_dtypes(include = ['object'])\n",
    "kaggle_int_d = pd.get_dummies(kaggle_int, drop_first=True)\n",
    "kaggle.drop(['MS Zoning', 'Street', 'Alley', 'Lot Shape', 'Land Contour',\n",
    "       'Utilities', 'Lot Config', 'Land Slope', 'Neighborhood', 'Condition 1',\n",
    "       'Condition 2', 'Bldg Type', 'House Style', 'Roof Style', 'Roof Matl',\n",
    "       'Exterior 1st', 'Exterior 2nd', 'Mas Vnr Type', 'Exter Qual',\n",
    "       'Exter Cond', 'Foundation', 'Bsmt Qual', 'Bsmt Cond', 'Bsmt Exposure',\n",
    "       'BsmtFin Type 1', 'BsmtFin Type 2', 'Heating', 'Heating QC',\n",
    "       'Central Air', 'Electrical', 'Kitchen Qual', 'Functional',\n",
    "       'Fireplace Qu', 'Garage Type', 'Garage Finish', 'Garage Qual',\n",
    "       'Garage Cond', 'Paved Drive', 'Pool QC', 'Fence', 'Misc Feature',\n",
    "       'Sale Type', 'BsmtFin SF 2'], axis=1, inplace=True)\n",
    "kaggle_con = pd.concat((kaggle, kaggle_int_d), axis=1)\n",
    "kaggle.fillna(0, inplace=True)\n",
    "\n",
    "#columns = X_columns.columns\n",
    "#kaggle = kaggle[columns]"
   ]
  },
  {
   "cell_type": "code",
   "execution_count": 40,
   "metadata": {},
   "outputs": [],
   "source": [
    "# Get missing columns in the training test\n",
    "missing_cols = set( X_columns_sc.columns ) - set( kaggle.columns )\n",
    "# Add a missing column in test set with default value equal to 0\n",
    "for c in missing_cols:\n",
    "    kaggle[c] = 0\n",
    "# Ensure the order of column in the test set is in the same order than in train set\n",
    "kaggle = kaggle[X_columns_sc.columns]"
   ]
  },
  {
   "cell_type": "code",
   "execution_count": 50,
   "metadata": {},
   "outputs": [],
   "source": [
    "missing_cols = set( X_columns.columns ) - set( kaggle.columns )\n",
    "for c in missing_cols:\n",
    "    kaggle[c] = 0\n",
    "kaggle = kaggle[X_columns.columns]"
   ]
  },
  {
   "cell_type": "code",
   "execution_count": 51,
   "metadata": {},
   "outputs": [
    {
     "data": {
      "text/plain": [
       "array([[-1.31895561e+00,  3.25920062e-01, -1.49966698e-01, ...,\n",
       "        -5.80853944e-01, -6.35046984e-01, -8.35207605e-01],\n",
       "       [-1.31895561e+00, -1.71210297e+00, -5.41267526e-02, ...,\n",
       "        -5.80853944e-01, -6.35046984e-01, -8.35207605e-01],\n",
       "       [-1.31895561e+00,  1.01784004e-03,  1.31749032e+00, ...,\n",
       "        -5.80853944e-01, -6.35046984e-01, -8.35207605e-01],\n",
       "       ...,\n",
       "       [-1.31895561e+00, -8.75918569e-02, -3.14369067e-01, ...,\n",
       "        -5.80853944e-01, -6.35046984e-01, -8.35207605e-01],\n",
       "       [-1.31895561e+00,  6.00909713e-02, -1.76138376e-01, ...,\n",
       "        -5.80853944e-01, -6.35046984e-01, -8.35207605e-01],\n",
       "       [-1.31895561e+00,  3.55456628e-01, -2.86722929e-01, ...,\n",
       "        -5.80853944e-01, -6.35046984e-01, -8.35207605e-01]])"
      ]
     },
     "execution_count": 51,
     "metadata": {},
     "output_type": "execute_result"
    }
   ],
   "source": [
    "ss.transform(kaggle)"
   ]
  },
  {
   "cell_type": "code",
   "execution_count": 52,
   "metadata": {},
   "outputs": [],
   "source": [
    "# Get missing columns in the training test\n",
    "missing_cols = set( X_columns_sc.columns ) - set( kaggle.columns )\n",
    "# Add a missing column in test set with default value equal to 0\n",
    "for c in missing_cols:\n",
    "    kaggle[c] = 0\n",
    "# Ensure the order of column in the test set is in the same order than in train set\n",
    "kaggle = kaggle[X_columns_sc.columns]"
   ]
  },
  {
   "cell_type": "code",
   "execution_count": 53,
   "metadata": {},
   "outputs": [],
   "source": [
    "preds = ls.predict(kaggle)"
   ]
  },
  {
   "cell_type": "code",
   "execution_count": 54,
   "metadata": {},
   "outputs": [
    {
     "data": {
      "text/plain": [
       "(879, 50)"
      ]
     },
     "execution_count": 54,
     "metadata": {},
     "output_type": "execute_result"
    }
   ],
   "source": [
    "kaggle.shape"
   ]
  },
  {
   "cell_type": "code",
   "execution_count": 55,
   "metadata": {},
   "outputs": [],
   "source": [
    "submission = pd.DataFrame(preds, index=kaggle.index, columns=['SalePrice'])"
   ]
  },
  {
   "cell_type": "code",
   "execution_count": 56,
   "metadata": {},
   "outputs": [],
   "source": [
    "submission.sort_index(inplace=True)"
   ]
  },
  {
   "cell_type": "code",
   "execution_count": 57,
   "metadata": {},
   "outputs": [
    {
     "data": {
      "text/html": [
       "<div>\n",
       "<style scoped>\n",
       "    .dataframe tbody tr th:only-of-type {\n",
       "        vertical-align: middle;\n",
       "    }\n",
       "\n",
       "    .dataframe tbody tr th {\n",
       "        vertical-align: top;\n",
       "    }\n",
       "\n",
       "    .dataframe thead th {\n",
       "        text-align: right;\n",
       "    }\n",
       "</style>\n",
       "<table border=\"1\" class=\"dataframe\">\n",
       "  <thead>\n",
       "    <tr style=\"text-align: right;\">\n",
       "      <th></th>\n",
       "      <th>SalePrice</th>\n",
       "    </tr>\n",
       "    <tr>\n",
       "      <th>Id</th>\n",
       "      <th></th>\n",
       "    </tr>\n",
       "  </thead>\n",
       "  <tbody>\n",
       "    <tr>\n",
       "      <th>2</th>\n",
       "      <td>8.693636e+07</td>\n",
       "    </tr>\n",
       "    <tr>\n",
       "      <th>4</th>\n",
       "      <td>1.090280e+08</td>\n",
       "    </tr>\n",
       "    <tr>\n",
       "      <th>6</th>\n",
       "      <td>9.227912e+07</td>\n",
       "    </tr>\n",
       "    <tr>\n",
       "      <th>7</th>\n",
       "      <td>7.005928e+07</td>\n",
       "    </tr>\n",
       "    <tr>\n",
       "      <th>17</th>\n",
       "      <td>1.009943e+08</td>\n",
       "    </tr>\n",
       "  </tbody>\n",
       "</table>\n",
       "</div>"
      ],
      "text/plain": [
       "       SalePrice\n",
       "Id              \n",
       "2   8.693636e+07\n",
       "4   1.090280e+08\n",
       "6   9.227912e+07\n",
       "7   7.005928e+07\n",
       "17  1.009943e+08"
      ]
     },
     "execution_count": 57,
     "metadata": {},
     "output_type": "execute_result"
    }
   ],
   "source": [
    "submission.head()"
   ]
  },
  {
   "cell_type": "code",
   "execution_count": 36,
   "metadata": {},
   "outputs": [],
   "source": [
    "##submission.to_csv('./numeric_only_lr_2b.csv')"
   ]
  },
  {
   "cell_type": "code",
   "execution_count": null,
   "metadata": {},
   "outputs": [],
   "source": []
  }
 ],
 "metadata": {
  "kernelspec": {
   "display_name": "Python 3",
   "language": "python",
   "name": "python3"
  },
  "language_info": {
   "codemirror_mode": {
    "name": "ipython",
    "version": 3
   },
   "file_extension": ".py",
   "mimetype": "text/x-python",
   "name": "python",
   "nbconvert_exporter": "python",
   "pygments_lexer": "ipython3",
   "version": "3.6.5"
  }
 },
 "nbformat": 4,
 "nbformat_minor": 2
}
