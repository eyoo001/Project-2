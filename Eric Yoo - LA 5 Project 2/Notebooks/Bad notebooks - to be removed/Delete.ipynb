{
 "cells": [
  {
   "cell_type": "markdown",
   "metadata": {},
   "source": [
    "# Preprocessing Data"
   ]
  },
  {
   "cell_type": "code",
   "execution_count": 1,
   "metadata": {},
   "outputs": [
    {
     "name": "stderr",
     "output_type": "stream",
     "text": [
      "/anaconda3/lib/python3.6/site-packages/sklearn/cross_validation.py:41: DeprecationWarning: This module was deprecated in version 0.18 in favor of the model_selection module into which all the refactored classes and functions are moved. Also note that the interface of the new CV iterators are different from that of this module. This module will be removed in 0.20.\n",
      "  \"This module will be removed in 0.20.\", DeprecationWarning)\n",
      "/anaconda3/lib/python3.6/site-packages/sklearn/grid_search.py:42: DeprecationWarning: This module was deprecated in version 0.18 in favor of the model_selection module into which all the refactored classes and functions are moved. This module will be removed in 0.20.\n",
      "  DeprecationWarning)\n"
     ]
    }
   ],
   "source": [
    "import seaborn as sns\n",
    "import pandas as pd\n",
    "import numpy as np\n",
    "import matplotlib.pyplot as plt\n",
    "from sklearn.linear_model import RidgeCV, LassoCV, LinearRegression\n",
    "from sklearn.preprocessing import StandardScaler\n",
    "from sklearn.model_selection import train_test_split\n",
    "from sklearn.pipeline import Pipeline\n",
    "from sklearn.feature_selection import SelectKBest, VarianceThreshold, f_regression, SelectPercentile\n",
    "from sklearn.grid_search import GridSearchCV\n",
    "import pickle\n",
    "import csv\n",
    "np.random.seed(42)\n",
    "\n",
    "\n",
    "%matplotlib inline"
   ]
  },
  {
   "cell_type": "markdown",
   "metadata": {},
   "source": [
    "# Load in training data"
   ]
  },
  {
   "cell_type": "code",
   "execution_count": 2,
   "metadata": {},
   "outputs": [],
   "source": [
    "df = pd.read_csv('../Data/train.csv', index_col='Id')\n",
    "kaggle = pd.read_csv('../Data/test.csv', index_col = 'Id')"
   ]
  },
  {
   "cell_type": "markdown",
   "metadata": {},
   "source": [
    "Move this further down"
   ]
  },
  {
   "cell_type": "code",
   "execution_count": 3,
   "metadata": {},
   "outputs": [],
   "source": [
    "df.drop(labels =182, axis = 0, inplace=True) # Shows a strong correlation to __"
   ]
  },
  {
   "cell_type": "code",
   "execution_count": 4,
   "metadata": {},
   "outputs": [],
   "source": [
    "df.drop(labels =1554, axis = 0, inplace=True) # Shows a strong correlation to __"
   ]
  },
  {
   "cell_type": "code",
   "execution_count": 5,
   "metadata": {},
   "outputs": [],
   "source": [
    "df.drop(labels =471, axis = 0, inplace=True) # Large outlier"
   ]
  },
  {
   "cell_type": "code",
   "execution_count": 6,
   "metadata": {},
   "outputs": [],
   "source": [
    "df.drop(labels =694, axis = 0, inplace=True) # Large outlier"
   ]
  },
  {
   "cell_type": "code",
   "execution_count": 7,
   "metadata": {},
   "outputs": [
    {
     "data": {
      "text/plain": [
       "Index(['PID', 'MS SubClass', 'MS Zoning', 'Lot Frontage', 'Lot Area', 'Street',\n",
       "       'Alley', 'Lot Shape', 'Land Contour', 'Utilities', 'Lot Config',\n",
       "       'Land Slope', 'Neighborhood', 'Condition 1', 'Condition 2', 'Bldg Type',\n",
       "       'House Style', 'Overall Qual', 'Overall Cond', 'Year Built',\n",
       "       'Year Remod/Add', 'Roof Style', 'Roof Matl', 'Exterior 1st',\n",
       "       'Exterior 2nd', 'Mas Vnr Type', 'Mas Vnr Area', 'Exter Qual',\n",
       "       'Exter Cond', 'Foundation', 'Bsmt Qual', 'Bsmt Cond', 'Bsmt Exposure',\n",
       "       'BsmtFin Type 1', 'BsmtFin SF 1', 'BsmtFin Type 2', 'BsmtFin SF 2',\n",
       "       'Bsmt Unf SF', 'Total Bsmt SF', 'Heating', 'Heating QC', 'Central Air',\n",
       "       'Electrical', '1st Flr SF', '2nd Flr SF', 'Low Qual Fin SF',\n",
       "       'Gr Liv Area', 'Bsmt Full Bath', 'Bsmt Half Bath', 'Full Bath',\n",
       "       'Half Bath', 'Bedroom AbvGr', 'Kitchen AbvGr', 'Kitchen Qual',\n",
       "       'TotRms AbvGrd', 'Functional', 'Fireplaces', 'Fireplace Qu',\n",
       "       'Garage Type', 'Garage Yr Blt', 'Garage Finish', 'Garage Cars',\n",
       "       'Garage Area', 'Garage Qual', 'Garage Cond', 'Paved Drive',\n",
       "       'Wood Deck SF', 'Open Porch SF', 'Enclosed Porch', '3Ssn Porch',\n",
       "       'Screen Porch', 'Pool Area', 'Pool QC', 'Fence', 'Misc Feature',\n",
       "       'Misc Val', 'Mo Sold', 'Yr Sold', 'Sale Type', 'SalePrice'],\n",
       "      dtype='object')"
      ]
     },
     "execution_count": 7,
     "metadata": {},
     "output_type": "execute_result"
    }
   ],
   "source": [
    "df.columns"
   ]
  },
  {
   "cell_type": "markdown",
   "metadata": {},
   "source": [
    "### Quick evaluation of the data shows some variables that can immediately be dropped due to redundancy, colinearity, and/or lack of values."
   ]
  },
  {
   "cell_type": "code",
   "execution_count": 8,
   "metadata": {},
   "outputs": [],
   "source": [
    "df.drop(['Condition 2', \n",
    "         'Year Remod/Add', \n",
    "         'Roof Matl', \n",
    "         'Exterior 2nd', \n",
    "         'Low Qual Fin SF',\n",
    "         'Fireplace Qu',\n",
    "         'BsmtFin Type 2',\n",
    "         'Garage Yr Blt'], \n",
    "        axis=1, \n",
    "        inplace=True)"
   ]
  },
  {
   "cell_type": "code",
   "execution_count": 9,
   "metadata": {},
   "outputs": [
    {
     "data": {
      "text/plain": [
       "Overall Qual     0.799490\n",
       "Year Built       0.571149\n",
       "Mas Vnr Area     0.512234\n",
       "Total Bsmt SF    0.627953\n",
       "1st Flr SF       0.618125\n",
       "Gr Liv Area      0.696307\n",
       "Full Bath        0.537153\n",
       "TotRms AbvGrd    0.502920\n",
       "Garage Cars      0.650192\n",
       "Garage Area      0.653531\n",
       "SalePrice        1.000000\n",
       "Name: SalePrice, dtype: float64"
      ]
     },
     "execution_count": 9,
     "metadata": {},
     "output_type": "execute_result"
    }
   ],
   "source": [
    "df_num_corr = df.corr()['SalePrice']\n",
    "df_num_corr[abs(df_num_corr) > 0.5]\n"
   ]
  },
  {
   "cell_type": "code",
   "execution_count": 10,
   "metadata": {},
   "outputs": [
    {
     "data": {
      "text/plain": [
       "Overall Qual     0.799490\n",
       "Year Built       0.571149\n",
       "Mas Vnr Area     0.512234\n",
       "Total Bsmt SF    0.627953\n",
       "1st Flr SF       0.618125\n",
       "Gr Liv Area      0.696307\n",
       "Full Bath        0.537153\n",
       "TotRms AbvGrd    0.502920\n",
       "Garage Cars      0.650192\n",
       "Garage Area      0.653531\n",
       "SalePrice        1.000000\n",
       "Name: SalePrice, dtype: float64"
      ]
     },
     "execution_count": 10,
     "metadata": {},
     "output_type": "execute_result"
    }
   ],
   "source": [
    "df_num_corr = df.corr()['SalePrice']\n",
    "df_num_corr[abs(df_num_corr) > 0.5]"
   ]
  },
  {
   "cell_type": "markdown",
   "metadata": {},
   "source": [
    "### Convert the following numerical features into objects, then one-hot encode for further testing"
   ]
  },
  {
   "cell_type": "code",
   "execution_count": 11,
   "metadata": {},
   "outputs": [],
   "source": [
    "df['Overall Qual'] = df['Overall Qual'].astype(object)\n",
    "df['Overall Cond'] = df['Overall Cond'].astype(object)\n",
    "df['Bsmt Full Bath'] = df['Bsmt Full Bath'].astype(object)\n",
    "df['Bsmt Half Bath'] = df['Bsmt Half Bath'].astype(object)\n",
    "df['Full Bath'] = df['Full Bath'].astype(object)\n",
    "df['Half Bath'] = df['Half Bath'].astype(object)\n",
    "df['Fireplaces'] = df['Fireplaces'].astype(object)\n",
    "df['Mo Sold'] = df['Mo Sold'].astype(object)\n",
    "df['Year Built'] = df['Year Built'].astype(object)\n",
    "df['Yr Sold'] = df['Yr Sold'].astype(object)"
   ]
  },
  {
   "cell_type": "code",
   "execution_count": 12,
   "metadata": {},
   "outputs": [],
   "source": [
    "df_int = df.select_dtypes(include = ['object'])\n",
    "kaggle_int = kaggle.select_dtypes(include = ['object'])"
   ]
  },
  {
   "cell_type": "code",
   "execution_count": 13,
   "metadata": {
    "scrolled": true
   },
   "outputs": [
    {
     "data": {
      "text/plain": [
       "MS Zoning            0\n",
       "Street               0\n",
       "Alley             1908\n",
       "Lot Shape            0\n",
       "Land Contour         0\n",
       "Utilities            0\n",
       "Lot Config           0\n",
       "Land Slope           0\n",
       "Neighborhood         0\n",
       "Condition 1          0\n",
       "Bldg Type            0\n",
       "House Style          0\n",
       "Overall Qual         0\n",
       "Overall Cond         0\n",
       "Year Built           0\n",
       "Roof Style           0\n",
       "Exterior 1st         0\n",
       "Mas Vnr Type        22\n",
       "Exter Qual           0\n",
       "Exter Cond           0\n",
       "Foundation           0\n",
       "Bsmt Qual           54\n",
       "Bsmt Cond           54\n",
       "Bsmt Exposure       57\n",
       "BsmtFin Type 1      54\n",
       "Heating              0\n",
       "Heating QC           0\n",
       "Central Air          0\n",
       "Electrical           0\n",
       "Bsmt Full Bath       2\n",
       "Bsmt Half Bath       2\n",
       "Full Bath            0\n",
       "Half Bath            0\n",
       "Kitchen Qual         0\n",
       "Functional           0\n",
       "Fireplaces           0\n",
       "Garage Type        113\n",
       "Garage Finish      114\n",
       "Garage Qual        114\n",
       "Garage Cond        114\n",
       "Paved Drive          0\n",
       "Pool QC           2038\n",
       "Fence             1647\n",
       "Misc Feature      1982\n",
       "Mo Sold              0\n",
       "Yr Sold              0\n",
       "Sale Type            0\n",
       "dtype: int64"
      ]
     },
     "execution_count": 13,
     "metadata": {},
     "output_type": "execute_result"
    }
   ],
   "source": [
    "df_int.isnull().sum()"
   ]
  },
  {
   "cell_type": "code",
   "execution_count": 14,
   "metadata": {
    "scrolled": false
   },
   "outputs": [],
   "source": [
    "#plt.figure(figsize=(10,10))\n",
    "#df['Exter Qual'].fillna('0', inplace=True)\n",
    "#plt.scatter(df['Heating'], df.SalePrice)"
   ]
  },
  {
   "cell_type": "code",
   "execution_count": 15,
   "metadata": {},
   "outputs": [
    {
     "data": {
      "text/plain": [
       "<matplotlib.collections.PathCollection at 0x10c930358>"
      ]
     },
     "execution_count": 15,
     "metadata": {},
     "output_type": "execute_result"
    },
    {
     "data": {
      "image/png": "[encoded data removed]",
      "text/plain": [
       "<Figure size 432x288 with 1 Axes>"
      ]
     },
     "metadata": {},
     "output_type": "display_data"
    }
   ],
   "source": [
    "plt.scatter(df['Lot Area'], df.SalePrice)"
   ]
  },
  {
   "cell_type": "code",
   "execution_count": 16,
   "metadata": {},
   "outputs": [],
   "source": [
    "df_int_d = pd.get_dummies(df_int, drop_first=True)\n",
    "kaggle_int_d = pd.get_dummies(kaggle_int, drop_first=True)"
   ]
  },
  {
   "cell_type": "code",
   "execution_count": 17,
   "metadata": {
    "scrolled": false
   },
   "outputs": [
    {
     "data": {
      "text/plain": [
       "Index(['MS Zoning', 'Street', 'Alley', 'Lot Shape', 'Land Contour',\n",
       "       'Utilities', 'Lot Config', 'Land Slope', 'Neighborhood', 'Condition 1',\n",
       "       'Bldg Type', 'House Style', 'Overall Qual', 'Overall Cond',\n",
       "       'Year Built', 'Roof Style', 'Exterior 1st', 'Mas Vnr Type',\n",
       "       'Exter Qual', 'Exter Cond', 'Foundation', 'Bsmt Qual', 'Bsmt Cond',\n",
       "       'Bsmt Exposure', 'BsmtFin Type 1', 'Heating', 'Heating QC',\n",
       "       'Central Air', 'Electrical', 'Bsmt Full Bath', 'Bsmt Half Bath',\n",
       "       'Full Bath', 'Half Bath', 'Kitchen Qual', 'Functional', 'Fireplaces',\n",
       "       'Garage Type', 'Garage Finish', 'Garage Qual', 'Garage Cond',\n",
       "       'Paved Drive', 'Pool QC', 'Fence', 'Misc Feature', 'Mo Sold', 'Yr Sold',\n",
       "       'Sale Type'],\n",
       "      dtype='object')"
      ]
     },
     "execution_count": 17,
     "metadata": {},
     "output_type": "execute_result"
    }
   ],
   "source": [
    "df_int.columns"
   ]
  },
  {
   "cell_type": "code",
   "execution_count": 18,
   "metadata": {},
   "outputs": [],
   "source": [
    "df.drop(['PID', 'MS Zoning', 'Street', 'Alley', 'Lot Shape', 'Land Contour',\n",
    "       'Utilities', 'Lot Config', 'Land Slope', 'Neighborhood', 'Condition 1',\n",
    "       'Bldg Type', 'House Style', 'Roof Style',\n",
    "       'Exterior 1st', 'Mas Vnr Type', 'Exter Qual', 'Exter Cond', 'Foundation', \n",
    "       'Bsmt Qual', 'Bsmt Cond', 'Bsmt Exposure',\n",
    "       'BsmtFin Type 1', 'Heating', 'Heating QC',\n",
    "       'Central Air', 'Electrical', 'Kitchen Qual', 'Functional',\n",
    "       'Garage Type', 'Garage Finish', 'Garage Qual',\n",
    "       'Garage Cond', 'Paved Drive', 'Pool QC', 'Fence', 'Misc Feature',\n",
    "       'Sale Type', 'BsmtFin SF 2', 'Garage Cars', 'Lot Frontage'], axis=1, inplace=True)"
   ]
  },
  {
   "cell_type": "code",
   "execution_count": 19,
   "metadata": {
    "scrolled": true
   },
   "outputs": [
    {
     "data": {
      "text/plain": [
       "Index(['MS SubClass', 'Lot Area', 'Overall Qual', 'Overall Cond', 'Year Built',\n",
       "       'Mas Vnr Area', 'BsmtFin SF 1', 'Bsmt Unf SF', 'Total Bsmt SF',\n",
       "       '1st Flr SF', '2nd Flr SF', 'Gr Liv Area', 'Bsmt Full Bath',\n",
       "       'Bsmt Half Bath', 'Full Bath', 'Half Bath', 'Bedroom AbvGr',\n",
       "       'Kitchen AbvGr', 'TotRms AbvGrd', 'Fireplaces', 'Garage Area',\n",
       "       'Wood Deck SF', 'Open Porch SF', 'Enclosed Porch', '3Ssn Porch',\n",
       "       'Screen Porch', 'Pool Area', 'Misc Val', 'Mo Sold', 'Yr Sold',\n",
       "       'SalePrice'],\n",
       "      dtype='object')"
      ]
     },
     "execution_count": 19,
     "metadata": {},
     "output_type": "execute_result"
    }
   ],
   "source": [
    "df.columns"
   ]
  },
  {
   "cell_type": "code",
   "execution_count": 20,
   "metadata": {},
   "outputs": [
    {
     "data": {
      "text/plain": [
       "<matplotlib.collections.PathCollection at 0x10ca5ef60>"
      ]
     },
     "execution_count": 20,
     "metadata": {},
     "output_type": "execute_result"
    },
    {
     "data": {
      "image/png": "[encoded data removed]",
      "text/plain": [
       "<Figure size 432x288 with 1 Axes>"
      ]
     },
     "metadata": {},
     "output_type": "display_data"
    }
   ],
   "source": [
    "plt.scatter(df['Yr Sold'], df.SalePrice)"
   ]
  },
  {
   "cell_type": "code",
   "execution_count": 21,
   "metadata": {
    "scrolled": true
   },
   "outputs": [
    {
     "data": {
      "text/plain": [
       "<matplotlib.collections.PathCollection at 0x1078c8f98>"
      ]
     },
     "execution_count": 21,
     "metadata": {},
     "output_type": "execute_result"
    },
    {
     "data": {
      "image/png": "[encoded data removed]",
      "text/plain": [
       "<Figure size 432x288 with 1 Axes>"
      ]
     },
     "metadata": {},
     "output_type": "display_data"
    }
   ],
   "source": [
    "plt.scatter(df['1st Flr SF'], df.SalePrice)"
   ]
  },
  {
   "cell_type": "code",
   "execution_count": 22,
   "metadata": {},
   "outputs": [],
   "source": [
    "kaggle.drop(['PID', 'MS Zoning', 'Street', 'Alley', 'Lot Shape', 'Land Contour',\n",
    "       'Utilities', 'Lot Config', 'Land Slope', 'Neighborhood', 'Condition 1',\n",
    "       'Condition 2', 'Bldg Type', 'House Style', 'Roof Style', 'Roof Matl',\n",
    "       'Exterior 1st', 'Exterior 2nd', 'Mas Vnr Type', 'Exter Qual',\n",
    "       'Exter Cond', 'Foundation', 'Bsmt Qual', 'Bsmt Cond', 'Bsmt Exposure',\n",
    "       'BsmtFin Type 1', 'BsmtFin Type 2', 'Heating', 'Heating QC',\n",
    "       'Central Air', 'Electrical', 'Kitchen Qual', 'Functional',\n",
    "       'Fireplace Qu', 'Garage Type', 'Garage Finish', 'Garage Qual',\n",
    "       'Garage Cond', 'Paved Drive', 'Pool QC', 'Fence', 'Misc Feature',\n",
    "       'Sale Type', 'BsmtFin SF 2'], axis=1, inplace=True)"
   ]
  },
  {
   "cell_type": "code",
   "execution_count": 23,
   "metadata": {},
   "outputs": [
    {
     "data": {
      "text/plain": [
       "Index(['MS SubClass', 'Lot Area', 'Overall Qual', 'Overall Cond', 'Year Built',\n",
       "       'Mas Vnr Area', 'BsmtFin SF 1', 'Bsmt Unf SF', 'Total Bsmt SF',\n",
       "       '1st Flr SF', '2nd Flr SF', 'Gr Liv Area', 'Bsmt Full Bath',\n",
       "       'Bsmt Half Bath', 'Full Bath', 'Half Bath', 'Bedroom AbvGr',\n",
       "       'Kitchen AbvGr', 'TotRms AbvGrd', 'Fireplaces', 'Garage Area',\n",
       "       'Wood Deck SF', 'Open Porch SF', 'Enclosed Porch', '3Ssn Porch',\n",
       "       'Screen Porch', 'Pool Area', 'Misc Val', 'Mo Sold', 'Yr Sold',\n",
       "       'SalePrice'],\n",
       "      dtype='object')"
      ]
     },
     "execution_count": 23,
     "metadata": {},
     "output_type": "execute_result"
    }
   ],
   "source": [
    "df.columns"
   ]
  },
  {
   "cell_type": "code",
   "execution_count": 24,
   "metadata": {},
   "outputs": [],
   "source": [
    "df_con = pd.concat((df, df_int_d), axis=1)\n",
    "df_con.fillna(0, inplace=True)\n",
    "kaggle_con = pd.concat((kaggle, kaggle_int_d), axis=1)\n",
    "kaggle_con.fillna(0, inplace=True)"
   ]
  },
  {
   "cell_type": "code",
   "execution_count": 25,
   "metadata": {},
   "outputs": [
    {
     "name": "stdout",
     "output_type": "stream",
     "text": [
      "Pool Area     1.000000\n",
      "Pool QC_Gd    0.756112\n",
      "Name: Pool Area, dtype: float64\n"
     ]
    }
   ],
   "source": [
    "df_con_corr = df_con.corr()['Pool Area'][:-1] \n",
    "golden_features_list = df_con_corr[abs(df_con_corr) > 0.5].sort_values(ascending=False)\n",
    "print(golden_features_list)"
   ]
  },
  {
   "cell_type": "code",
   "execution_count": 26,
   "metadata": {
    "scrolled": true
   },
   "outputs": [
    {
     "name": "stdout",
     "output_type": "stream",
     "text": [
      "SalePrice           1.000000\n",
      "Overall Qual        0.799490\n",
      "Gr Liv Area         0.696307\n",
      "Garage Area         0.653156\n",
      "Total Bsmt SF       0.628337\n",
      "1st Flr SF          0.618125\n",
      "Year Built          0.571149\n",
      "Full Bath           0.537153\n",
      "Foundation_PConc    0.529202\n",
      "Mas Vnr Area        0.503567\n",
      "TotRms AbvGrd       0.502920\n",
      "Full Bath_1        -0.519032\n",
      "Kitchen Qual_TA    -0.542967\n",
      "Exter Qual_TA      -0.602519\n",
      "Name: SalePrice, dtype: float64\n"
     ]
    }
   ],
   "source": [
    "df_con_corr = df_con.corr()['SalePrice'][:-1] \n",
    "golden_features_list = df_con_corr[abs(df_con_corr) > 0.5].sort_values(ascending=False)\n",
    "print(golden_features_list)"
   ]
  },
  {
   "cell_type": "markdown",
   "metadata": {},
   "source": [
    "# Assign X and y"
   ]
  },
  {
   "cell_type": "markdown",
   "metadata": {},
   "source": [
    "# Scale the data"
   ]
  },
  {
   "cell_type": "code",
   "execution_count": 27,
   "metadata": {},
   "outputs": [],
   "source": [
    "y = df['SalePrice']\n",
    "X = df_con.drop(['SalePrice'], axis=1)"
   ]
  },
  {
   "cell_type": "code",
   "execution_count": 28,
   "metadata": {},
   "outputs": [],
   "source": [
    "X_train, X_test, y_train, y_test = train_test_split(X, y)"
   ]
  },
  {
   "cell_type": "code",
   "execution_count": 30,
   "metadata": {},
   "outputs": [],
   "source": [
    "#with open('../data/X_train_.csv', 'w+') as f:\n",
    "#    csv_writer = csv.writer(f)\n",
    "#    csv_writer.writerows(X_train_sc)\n",
    "\n",
    "X_train.to_pickle(\"../Data/X_train.pkl\")"
   ]
  },
  {
   "cell_type": "code",
   "execution_count": 31,
   "metadata": {},
   "outputs": [],
   "source": [
    "#with open('../data/X_test_sc.csv', 'w+') as f:\n",
    "#    csv_writer = csv.writer(f)\n",
    "#    csv_writer.writerows(X_test_sc)\n",
    "    \n",
    "X_test.to_pickle(\"../Data/X_test.pkl\")"
   ]
  },
  {
   "cell_type": "code",
   "execution_count": 32,
   "metadata": {},
   "outputs": [],
   "source": [
    "#y_train.to_csv('../Data/y_train.csv', index=False, header=False)\n",
    "y_train.to_pickle(\"../Data/y_train.pkl\")"
   ]
  },
  {
   "cell_type": "code",
   "execution_count": 33,
   "metadata": {},
   "outputs": [],
   "source": [
    "#y_test.to_csv('../Data/y_test.csv', index=False, header=False)\n",
    "y_test.to_pickle(\"../Data/y_test.pkl\")"
   ]
  },
  {
   "cell_type": "code",
   "execution_count": null,
   "metadata": {},
   "outputs": [],
   "source": []
  },
  {
   "cell_type": "code",
   "execution_count": null,
   "metadata": {},
   "outputs": [],
   "source": [
    "with open('../assets/columns.pkl', 'wb+') as f:\n",
    "    pickle.dump(list(X.columns), f)"
   ]
  },
  {
   "cell_type": "code",
   "execution_count": null,
   "metadata": {},
   "outputs": [],
   "source": []
  }
 ],
 "metadata": {
  "kernelspec": {
   "display_name": "Python 3",
   "language": "python",
   "name": "python3"
  },
  "language_info": {
   "codemirror_mode": {
    "name": "ipython",
    "version": 3
   },
   "file_extension": ".py",
   "mimetype": "text/x-python",
   "name": "python",
   "nbconvert_exporter": "python",
   "pygments_lexer": "ipython3",
   "version": "3.6.5"
  }
 },
 "nbformat": 4,
 "nbformat_minor": 2
}
